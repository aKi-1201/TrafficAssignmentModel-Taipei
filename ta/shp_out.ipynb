{
 "cells": [
  {
   "cell_type": "code",
   "execution_count": 1,
   "id": "386d69e7",
   "metadata": {},
   "outputs": [],
   "source": [
    "import geopandas as gpd\n",
    "import pandas as pd"
   ]
  },
  {
   "cell_type": "code",
   "execution_count": 2,
   "id": "c73cd1e0",
   "metadata": {},
   "outputs": [
    {
     "name": "stdout",
     "output_type": "stream",
     "text": [
      "Warning: No capacity found for class 62 and lanes 0. Using default value 0.\n",
      "Warning: No capacity found for class 10 and lanes 0. Using default value 0.\n",
      "Warning: No capacity found for class 62 and lanes 0. Using default value 0.\n",
      "Warning: No capacity found for class 62 and lanes 0. Using default value 0.\n",
      "Warning: No capacity found for class 78 and lanes 0. Using default value 0.\n",
      "Warning: No capacity found for class 78 and lanes 0. Using default value 0.\n",
      "Warning: No capacity found for class 79 and lanes 0. Using default value 0.\n",
      "Warning: No capacity found for class 47 and lanes 0. Using default value 0.\n",
      "Warning: No capacity found for class 76 and lanes 0. Using default value 0.\n",
      "Warning: No capacity found for class 62 and lanes 0. Using default value 0.\n"
     ]
    },
    {
     "name": "stderr",
     "output_type": "stream",
     "text": [
      "C:\\Users\\chiuj\\AppData\\Local\\Temp\\ipykernel_3308\\3298499467.py:19: UserWarning: Column names longer than 10 characters will be truncated when saved to ESRI Shapefile.\n",
      "  gdf.to_file(f\"{year}_{scenario}_{rush_hour}{case}_UE_results.shp\")\n",
      "C:\\Users\\chiuj\\AppData\\Local\\Packages\\PythonSoftwareFoundation.Python.3.11_qbz5n2kfra8p0\\LocalCache\\local-packages\\Python311\\site-packages\\pyogrio\\geopandas.py:662: UserWarning: 'crs' was not provided.  The output dataset will not have projection information defined and may not be usable in other systems.\n",
      "  write(\n",
      "C:\\Users\\chiuj\\AppData\\Local\\Packages\\PythonSoftwareFoundation.Python.3.11_qbz5n2kfra8p0\\LocalCache\\local-packages\\Python311\\site-packages\\pyogrio\\raw.py:723: RuntimeWarning: Normalized/laundered field name: 'UE_travelTime' to 'UE_travelT'\n",
      "  ogr_write(\n",
      "C:\\Users\\chiuj\\AppData\\Local\\Packages\\PythonSoftwareFoundation.Python.3.11_qbz5n2kfra8p0\\LocalCache\\local-packages\\Python311\\site-packages\\pyogrio\\raw.py:723: RuntimeWarning: Normalized/laundered field name: 'assigned_speed' to 'assigned_s'\n",
      "  ogr_write(\n"
     ]
    }
   ],
   "source": [
    "def savetoShapefile():\n",
    "    cap_dict = {}\n",
    "    with open('TRTS4S_Capacity.csv', 'r') as f:\n",
    "        lines = f.readlines()\n",
    "        for line in lines[1:]:\n",
    "            parts = line.strip().split(',')\n",
    "            class_num = int(parts[0])\n",
    "            for i in range(1, len(parts)):\n",
    "                lanes = i\n",
    "                capacity = int(parts[i])\n",
    "                cap_dict[(class_num, lanes)] = capacity\n",
    "    ue_results = pd.read_csv(f\"{year}_{scenario}_{rush_hour}{case}_UE_results.dat\", sep=\"\\t\")\n",
    "    gdf = gpd.read_file(f\"Network/Net_modified_{scenario}_{rush_hour}調撥.shp\")\n",
    "    ue_results.rename(columns={\"tailNode\": \"A\", \"headNode\": \"B\"}, inplace=True)\n",
    "    gdf = gdf.merge(ue_results[[\"A\", \"B\", \"capacity\", \"UE_travelTime\", \"UE_flow\"]], on=[\"A\", \"B\"], how=\"left\")\n",
    "    gdf['capacity'] = gdf.apply(lambda row: get_capacity(row, cap_dict), axis=1)\n",
    "    gdf[\"V/C\"] = gdf[\"UE_flow\"] / gdf[\"capacity\"]\n",
    "    gdf[\"assigned_speed\"] = gdf[\"LENGTH\"] / gdf[\"UE_travelTime\"] * 60 \n",
    "    gdf.to_file(f\"{year}_{scenario}_{rush_hour}{case}_UE_results.shp\")\n",
    "\n",
    "def get_capacity(row, cap_dict):\n",
    "    class_num = row['CLASS_110']\n",
    "    lanes = row['LANES_110']\n",
    "    if (class_num, lanes) in cap_dict:\n",
    "        return cap_dict[(class_num, lanes)]\n",
    "    else:\n",
    "        print(f\"Warning: No capacity found for class {class_num} and lanes {lanes}. Using default value 0.\")\n",
    "        return 0\n",
    "\n",
    "year = 104\n",
    "for scenario in ['現況']: # '現況', '全線拆除', '部分拆除', '', ''\n",
    "    for rush_hour in ['晨峰']: # '晨峰', '昏峰'\n",
    "        for case in ['']: # '', '士林北投', '士林北投三重', '全區域'\n",
    "            savetoShapefile()"
   ]
  }
 ],
 "metadata": {
  "kernelspec": {
   "display_name": "Python 3",
   "language": "python",
   "name": "python3"
  },
  "language_info": {
   "codemirror_mode": {
    "name": "ipython",
    "version": 3
   },
   "file_extension": ".py",
   "mimetype": "text/x-python",
   "name": "python",
   "nbconvert_exporter": "python",
   "pygments_lexer": "ipython3",
   "version": "3.11.9"
  }
 },
 "nbformat": 4,
 "nbformat_minor": 5
}
